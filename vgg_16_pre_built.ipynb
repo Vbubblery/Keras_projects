{
  "cells": [
    {
      "metadata": {
        "_uuid": "8f2839f25d086af736a60e9eeb907d3b93b6e0e5",
        "_cell_guid": "b1076dfc-b9ad-4769-8c92-a6c4dae69d19",
        "trusted": true
      },
      "cell_type": "code",
      "source": "# This Python 3 environment comes with many helpful analytics libraries installed\n# It is defined by the kaggle/python docker image: https://github.com/kaggle/docker-python\n# For example, here's several helpful packages to load in \n\nimport numpy as np # linear algebra\nimport pandas as pd # data processing, CSV file I/O (e.g. pd.read_csv)\n\n# Input data files are available in the \"../input/\" directory.\n# For example, running this (by clicking run or pressing Shift+Enter) will list the files in the input directory\n\nimport os\nprint(os.listdir(\"../input\"))\n\n# Any results you write to the current directory are saved as output.",
      "execution_count": 1,
      "outputs": [
        {
          "output_type": "stream",
          "text": "[]\n",
          "name": "stdout"
        }
      ]
    },
    {
      "metadata": {
        "_cell_guid": "79c7e3d0-c299-4dcb-8224-4455121ee9b0",
        "_uuid": "d629ff2d2480ee46fbb7e2d37f6b5fab8052498a",
        "trusted": true
      },
      "cell_type": "code",
      "source": "from keras.models import Model\nfrom keras.preprocessing import image\nfrom keras.optimizers import SGD\nfrom keras.applications.vgg16 import VGG16\nfrom keras.applications.vgg19 import VGG19\nimport matplotlib.pyplot as plt\nimport numpy as np\nimport cv2",
      "execution_count": 2,
      "outputs": [
        {
          "output_type": "stream",
          "text": "Using TensorFlow backend.\n",
          "name": "stderr"
        }
      ]
    },
    {
      "metadata": {
        "trusted": true,
        "_uuid": "28ca7b5041fa49ae510935b449131117414e98b6"
      },
      "cell_type": "code",
      "source": "model = VGG19()\nsgd = SGD(lr=0.1, decay=1e-6, momentum=0.9, nesterov=True)\nmodel.compile(optimizer=sgd, loss='categorical_crossentropy')",
      "execution_count": 3,
      "outputs": [
        {
          "output_type": "stream",
          "text": "Downloading data from https://github.com/fchollet/deep-learning-models/releases/download/v0.1/vgg19_weights_tf_dim_ordering_tf_kernels.h5\n574717952/574710816 [==============================] - 15s 0us/step\n",
          "name": "stdout"
        }
      ]
    },
    {
      "metadata": {
        "trusted": true,
        "_uuid": "a2ad3f4a1f2da6f0f2e01d07ba47c719515a7ca7"
      },
      "cell_type": "code",
      "source": "!(wget http://www.confectionerycapers.com/images/up844a.jpg)",
      "execution_count": 4,
      "outputs": [
        {
          "output_type": "stream",
          "text": "--2018-07-25 19:17:08--  http://www.confectionerycapers.com/images/up844a.jpg\nResolving www.confectionerycapers.com (www.confectionerycapers.com)... 202.72.184.28\nConnecting to www.confectionerycapers.com (www.confectionerycapers.com)|202.72.184.28|:80... connected.\nHTTP request sent, awaiting response... 200 OK\nLength: 39687 (39K) [image/jpeg]\nSaving to: ‘up844a.jpg’\n\nup844a.jpg          100%[=====================>]  38.76K  52.1KB/s   in 0.7s   \n\n2018-07-25 19:17:10 (52.1 KB/s) - ‘up844a.jpg’ saved [39687/39687]\n\n",
          "name": "stdout"
        }
      ]
    },
    {
      "metadata": {
        "trusted": true,
        "_uuid": "f9158191f46a7dd6a54840ec8896f307d1da0f5a",
        "collapsed": true
      },
      "cell_type": "code",
      "source": "im = cv2.resize(cv2.imread('up844a.jpg'), (224, 224))\nim = np.expand_dims(im, axis=0)",
      "execution_count": 5,
      "outputs": []
    },
    {
      "metadata": {
        "trusted": true,
        "_uuid": "38c783770bb19f4debd2734f8dfbf84d1e221e33"
      },
      "cell_type": "code",
      "source": "out = model.predict(im)\nplt.plot(out.ravel())\nplt.show()",
      "execution_count": 6,
      "outputs": [
        {
          "output_type": "display_data",
          "data": {
            "text/plain": "<matplotlib.figure.Figure at 0x7f2d2ca63400>",
            "image/png": "[encoded data removed]"
          },
          "metadata": {}
        }
      ]
    },
    {
      "metadata": {
        "trusted": true,
        "_uuid": "c4eae1b8e1ccb3698262e574c2be6fed0ed1edad"
      },
      "cell_type": "code",
      "source": "import urllib.request, json \nwith urllib.request.urlopen(\"https://s3.amazonaws.com/deep-learning-models/image-models/imagenet_class_index.json\") as url:\n    data = json.loads(url.read().decode())",
      "execution_count": 18,
      "outputs": []
    },
    {
      "metadata": {
        "trusted": true,
        "_uuid": "1ad3cc1a5a60b2246f7d4badb42d54978080e075"
      },
      "cell_type": "code",
      "source": "data[str(np.argmax(out))][1]",
      "execution_count": 21,
      "outputs": [
        {
          "output_type": "execute_result",
          "execution_count": 21,
          "data": {
            "text/plain": "'steam_locomotive'"
          },
          "metadata": {}
        }
      ]
    },
    {
      "metadata": {
        "trusted": true,
        "collapsed": true,
        "_uuid": "e69e9957920cb3ba15f6aede5a2990a2ac0ee8bc"
      },
      "cell_type": "code",
      "source": "",
      "execution_count": null,
      "outputs": []
    }
  ],
  "metadata": {
    "kernelspec": {
      "display_name": "Python 3",
      "language": "python",
      "name": "python3"
    },
    "language_info": {
      "name": "python",
      "version": "3.6.6",
      "mimetype": "text/x-python",
      "codemirror_mode": {
        "name": "ipython",
        "version": 3
      },
      "pygments_lexer": "ipython3",
      "nbconvert_exporter": "python",
      "file_extension": ".py"
    }
  },
  "nbformat": 4,
  "nbformat_minor": 1
}